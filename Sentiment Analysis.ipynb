{
 "cells": [
  {
   "cell_type": "code",
   "execution_count": 1,
   "id": "9087f0e7-ba69-4e9c-9404-006867c3824c",
   "metadata": {},
   "outputs": [
    {
     "data": {
      "text/plain": [
       "level\n",
       "0    22542\n",
       "1    20831\n",
       "2    18318\n",
       "3    12990\n",
       "Name: count, dtype: int64"
      ]
     },
     "execution_count": 1,
     "metadata": {},
     "output_type": "execute_result"
    }
   ],
   "source": [
    "import pandas as pd\n",
    "import numpy as np\n",
    "import matplotlib.pyplot as plt\n",
    "import seaborn as sns\n",
    "from sklearn.preprocessing import OrdinalEncoder\n",
    "\n",
    "df = pd.read_csv(\"twitter_training.csv\") \n",
    "\n",
    "df.head()\n",
    "\n",
    "df.columns\n",
    "\n",
    "df.rename(columns={'im getting on borderlands and i will murder you all ,': 'text'}, inplace=True)\n",
    "df.rename(columns={'Positive': 'level'}, inplace=True)\n",
    "df['level'].value_counts()\n",
    "\n",
    "df = df.drop(['Borderlands', '2401'],axis=1)\n",
    "\n",
    "df.head()\n",
    "\n",
    "label_mapping = {'Negative':0, 'Positive':1, 'Neutral':2, 'Irrelevant':3}\n",
    "\n",
    "df['level']=df['level'].map(label_mapping)\n",
    "\n",
    "df['level'].value_counts()\n"
   ]
  },
  {
   "cell_type": "code",
   "execution_count": 2,
   "id": "3d04ba38-943c-4954-8d5f-8898a88b9fe0",
   "metadata": {},
   "outputs": [
    {
     "data": {
      "text/plain": [
       "(74681, 2)"
      ]
     },
     "execution_count": 2,
     "metadata": {},
     "output_type": "execute_result"
    }
   ],
   "source": [
    "df.shape"
   ]
  },
  {
   "cell_type": "code",
   "execution_count": 3,
   "id": "79f3bffa-1c07-459e-9f81-18e563ce8770",
   "metadata": {},
   "outputs": [],
   "source": [
    "df = df.iloc[:25000,:]"
   ]
  },
  {
   "cell_type": "code",
   "execution_count": 4,
   "id": "f78759a8-ff66-4f0f-aaf8-e1c600dd995a",
   "metadata": {},
   "outputs": [
    {
     "data": {
      "text/plain": [
       "(25000, 2)"
      ]
     },
     "execution_count": 4,
     "metadata": {},
     "output_type": "execute_result"
    }
   ],
   "source": [
    "df.shape"
   ]
  },
  {
   "cell_type": "code",
   "execution_count": 5,
   "id": "846f0564-9139-4f19-a3a9-d31dab59cdda",
   "metadata": {},
   "outputs": [
    {
     "data": {
      "text/plain": [
       "<Axes: xlabel='level'>"
      ]
     },
     "execution_count": 5,
     "metadata": {},
     "output_type": "execute_result"
    },
    {
     "data": {
      "image/png": "[encoded data removed]",
      "text/plain": [
       "<Figure size 640x480 with 1 Axes>"
      ]
     },
     "metadata": {},
     "output_type": "display_data"
    }
   ],
   "source": [
    "df['level'].value_counts().plot(kind='bar')"
   ]
  },
  {
   "cell_type": "code",
   "execution_count": 6,
   "id": "60721102-1dfd-46bf-b8e7-63179705ff24",
   "metadata": {},
   "outputs": [
    {
     "data": {
      "text/plain": [
       "'Grounded almost was pretty cool even despite the top tier unfunny writing until we became yet another annoying crafting game. I seriously can’t wait on this shitty trend to die'"
      ]
     },
     "execution_count": 6,
     "metadata": {},
     "output_type": "execute_result"
    }
   ],
   "source": [
    "df['text'][100]"
   ]
  },
  {
   "cell_type": "code",
   "execution_count": 7,
   "id": "a1ae2cfd-61a5-46b4-bbe9-ed810f538ef0",
   "metadata": {},
   "outputs": [],
   "source": [
    "import re\n",
    "import nltk\n",
    "from nltk.stem.porter import PorterStemmer\n",
    "from nltk.corpus import stopwords"
   ]
  },
  {
   "cell_type": "code",
   "execution_count": 8,
   "id": "3b4105ab-5d17-4e04-a468-8bbc8c42ce02",
   "metadata": {},
   "outputs": [],
   "source": [
    "stopwords_set = set(stopwords.words('english'))\n",
    "emoji_pattern = re.compile(r'(?::|;|=)(?:-)?(?:\\)|\\(|D|P)')\n",
    "\n",
    "def preprocessing(text):\n",
    "    text = re.sub('<[^>]*>', '', text)\n",
    "    emojis = emoji_pattern.findall(text)\n",
    "    text = re.sub(r'[\\W+]', ' ', text.lower()) + ' '.join(emojis).replace('-', '')\n",
    "    \n",
    "    prter = PorterStemmer()\n",
    "    text = [prter.stem(word) for word in text.split() if word not in stopwords_set]\n",
    "    return \" \".join(text)"
   ]
  },
  {
   "cell_type": "code",
   "execution_count": 9,
   "id": "2af39f5f-e243-496f-938c-ed9a05bbffc9",
   "metadata": {},
   "outputs": [
    {
     "data": {
      "text/plain": [
       "'tag hello world :)'"
      ]
     },
     "execution_count": 9,
     "metadata": {},
     "output_type": "execute_result"
    }
   ],
   "source": [
    "preprocessing('this is my tags<h1> :) <p>hello world<p> <div> <div> </h2>')"
   ]
  },
  {
   "cell_type": "code",
   "execution_count": 11,
   "id": "2a97057b-ecea-4209-a692-6d7b14a4e320",
   "metadata": {},
   "outputs": [],
   "source": [
    "df['text']=df['text'].astype(str)"
   ]
  },
  {
   "cell_type": "code",
   "execution_count": 12,
   "id": "0ec0a837-2b2f-4b78-a22d-77c8f7c34f41",
   "metadata": {},
   "outputs": [],
   "source": [
    "df['text']=df['text'].apply(lambda x: preprocessing(x))"
   ]
  },
  {
   "cell_type": "code",
   "execution_count": 18,
   "id": "85ce6deb-27df-4cf2-b882-adb27393055d",
   "metadata": {},
   "outputs": [
    {
     "data": {
      "text/plain": [
       "0                                         come border kill\n",
       "1                                   im get borderland kill\n",
       "2                                im come borderland murder\n",
       "3                               im get borderland 2 murder\n",
       "4                                 im get borderland murder\n",
       "                               ...                        \n",
       "24995          jade everi singl fuck thing life wait googl\n",
       "24996                       get bore everi damn thing life\n",
       "24997             stutter everi fuck thing life wait googl\n",
       "24998                 jade singl fuck thing web wait googl\n",
       "24999    x nice jade everi singl fuck thing life wait g...\n",
       "Name: text, Length: 25000, dtype: object"
      ]
     },
     "execution_count": 18,
     "metadata": {},
     "output_type": "execute_result"
    }
   ],
   "source": [
    "df['text']"
   ]
  },
  {
   "cell_type": "code",
   "execution_count": 28,
   "id": "b635e2c6-66a4-4de5-b5be-f4960d109709",
   "metadata": {},
   "outputs": [],
   "source": [
    "#positivedata = df[df['level']==1]\n",
    "#positivedata = positivedata['text']"
   ]
  },
  {
   "cell_type": "code",
   "execution_count": 23,
   "id": "068f8f04-4054-4704-92bd-29849d2b4dd5",
   "metadata": {},
   "outputs": [],
   "source": [
    "#negdata = df[df['level']==0]\n",
    "#negdata = negdata['text']"
   ]
  },
  {
   "cell_type": "code",
   "execution_count": 24,
   "id": "f9cd0a36-8b0c-4700-a8e3-cc25b9791873",
   "metadata": {},
   "outputs": [],
   "source": [
    "#from collections import Counter"
   ]
  },
  {
   "cell_type": "code",
   "execution_count": 25,
   "id": "b5e4099a-1fef-4d28-b915-e17e2a53ac7d",
   "metadata": {},
   "outputs": [],
   "source": [
    "#positivedata_words = ' '.join(positivedata).split()\n",
    "#positivedata_word_counts = Counter(positivedata_words)\n",
    "#positivedata_common_words = positivedata_word_counts.most_common(10)"
   ]
  },
  {
   "cell_type": "code",
   "execution_count": 29,
   "id": "830b920e-dbe2-465a-b76d-f424e247ec90",
   "metadata": {},
   "outputs": [],
   "source": [
    "#negdata_words = ' '.join(negdata).split()\n",
    "#negdata_word_counts = Counter(negdata_words)\n",
    "#negdata_common_words = negdata_word_counts.most_common(10)"
   ]
  },
  {
   "cell_type": "code",
   "execution_count": null,
   "id": "4e69cbcf-e2b5-4e15-945a-a601044da542",
   "metadata": {},
   "outputs": [],
   "source": []
  },
  {
   "cell_type": "code",
   "execution_count": 34,
   "id": "6e99184b-f3c7-4600-8409-adce8f5538e9",
   "metadata": {},
   "outputs": [],
   "source": [
    "from sklearn.feature_extraction.text import TfidfVectorizer\n",
    "\n",
    "tfidf=TfidfVectorizer(strip_accents=None,lowercase=False,preprocessor=None,use_idf=True,norm='l2',smooth_idf=True)\n",
    "y=df.level.values\n",
    "x=tfidf.fit_transform(df.text)"
   ]
  },
  {
   "cell_type": "code",
   "execution_count": 40,
   "id": "5fd272aa-768b-4cfe-bd03-487b8af42cd6",
   "metadata": {},
   "outputs": [],
   "source": [
    "from sklearn.model_selection import train_test_split\n",
    "X_train,X_test,y_train,y_test = train_test_split(x,y,random_state=1,test_size=0.5, shuffle=False)"
   ]
  },
  {
   "cell_type": "code",
   "execution_count": 41,
   "id": "68671fac-bbe9-443c-9007-d00d11c4b79c",
   "metadata": {},
   "outputs": [
    {
     "name": "stderr",
     "output_type": "stream",
     "text": [
      "[Parallel(n_jobs=-1)]: Using backend LokyBackend with 8 concurrent workers.\n",
      "[Parallel(n_jobs=-1)]: Done   3 out of   6 | elapsed:   26.1s remaining:   26.1s\n",
      "[Parallel(n_jobs=-1)]: Done   6 out of   6 | elapsed:   26.4s finished\n"
     ]
    }
   ],
   "source": [
    "from sklearn.linear_model import LogisticRegressionCV\n",
    "clf = LogisticRegressionCV(cv=6, scoring='accuracy',random_state=0,n_jobs=-1, verbose=3, max_iter=500).fit(X_train,y_train)\n",
    "y_pred= clf.predict(X_test)"
   ]
  },
  {
   "cell_type": "code",
   "execution_count": null,
   "id": "78f8858f-39b0-4210-907a-5fa2ca98aa5d",
   "metadata": {},
   "outputs": [],
   "source": []
  },
  {
   "cell_type": "code",
   "execution_count": 42,
   "id": "bdb957a1-df4b-4048-8896-28d5e8a4a8c8",
   "metadata": {},
   "outputs": [],
   "source": [
    "from sklearn import metrics"
   ]
  },
  {
   "cell_type": "code",
   "execution_count": 43,
   "id": "6083bb92-a99f-4f4a-a990-a8883693d3de",
   "metadata": {},
   "outputs": [
    {
     "name": "stdout",
     "output_type": "stream",
     "text": [
      "Accuracy 0.44128\n"
     ]
    }
   ],
   "source": [
    "print(\"Accuracy\", metrics.accuracy_score(y_test,y_pred))"
   ]
  },
  {
   "cell_type": "code",
   "execution_count": 44,
   "id": "b71c3e37-3eac-4b7c-890e-fb43da18531c",
   "metadata": {},
   "outputs": [],
   "source": [
    "import pickle\n",
    "pickle.dump(clf,open('clf.pkl','wb'))\n",
    "pickle.dump(tfidf,open('tfidf.pkl','wb'))"
   ]
  },
  {
   "cell_type": "code",
   "execution_count": null,
   "id": "7d93db41-2477-4f55-8173-813031cb8f2d",
   "metadata": {},
   "outputs": [],
   "source": []
  },
  {
   "cell_type": "code",
   "execution_count": null,
   "id": "78fcb08d-0228-4f39-9275-46edfc40f924",
   "metadata": {},
   "outputs": [],
   "source": []
  }
 ],
 "metadata": {
  "kernelspec": {
   "display_name": "Python 3 (ipykernel)",
   "language": "python",
   "name": "python3"
  },
  "language_info": {
   "codemirror_mode": {
    "name": "ipython",
    "version": 3
   },
   "file_extension": ".py",
   "mimetype": "text/x-python",
   "name": "python",
   "nbconvert_exporter": "python",
   "pygments_lexer": "ipython3",
   "version": "3.12.4"
  }
 },
 "nbformat": 4,
 "nbformat_minor": 5
}
